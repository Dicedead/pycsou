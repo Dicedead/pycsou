{
 "cells": [
  {
   "cell_type": "code",
   "execution_count": 34,
   "metadata": {
    "collapsed": true,
    "ExecuteTime": {
     "end_time": "2023-06-21T11:12:58.383364615Z",
     "start_time": "2023-06-21T11:12:58.332715900Z"
    }
   },
   "outputs": [],
   "source": [
    "import numpy as np\n",
    "import matplotlib.pyplot as plt\n",
    "import time\n",
    "import tqdm\n",
    "\n",
    "from disk_radon_test import *\n",
    "from radon_transform import *"
   ]
  },
  {
   "cell_type": "code",
   "execution_count": 35,
   "outputs": [],
   "source": [
    "full_run = True"
   ],
   "metadata": {
    "collapsed": false
   }
  },
  {
   "cell_type": "code",
   "execution_count": 36,
   "outputs": [],
   "source": [
    "# Image parameters\n",
    "image_height = 512\n",
    "image_width = image_height\n",
    "cmap = \"gray\""
   ],
   "metadata": {
    "collapsed": false
   }
  },
  {
   "cell_type": "code",
   "execution_count": 37,
   "outputs": [],
   "source": [
    "xx, yy = np.mgrid[:image_height, :image_width]\n",
    "center_x = image_width/2\n",
    "center_y = image_height/2\n",
    "SCALE = 45"
   ],
   "metadata": {
    "collapsed": false
   }
  },
  {
   "cell_type": "code",
   "execution_count": 38,
   "outputs": [],
   "source": [
    "def disk_func(x, y, radius):\n",
    "    return x ** 2 + y ** 2 < radius ** 2\n",
    "\n",
    "def p_function(x, y, a, delta_x, delta_y, radius):\n",
    "    temp = np.array([disk_func(x-dx, y-dy, radius) for dx, dy in zip(delta_x, delta_y)])\n",
    "    return (temp.T @ a).T"
   ],
   "metadata": {
    "collapsed": false
   }
  },
  {
   "cell_type": "code",
   "execution_count": 39,
   "outputs": [],
   "source": [
    "delta_x = np.array([1, 0.5, -0.5])\n",
    "delta_y = 0.3 * np.array([0, 0.25, -0.5])\n",
    "n = np.array([1, 0])\n",
    "s = np.linspace(-2, 2, num=1000)\n",
    "radius = 0.3\n",
    "p_vals = p_function(xx-center_x, yy-center_y, np.ones(len(delta_x)), delta_x, delta_y, radius)\n",
    "plt.imshow(p_vals[int(center_x-10):int(center_x+11), int(center_y-10):int(center_y+11)], cmap=cmap);"
   ],
   "metadata": {
    "collapsed": false
   }
  },
  {
   "cell_type": "code",
   "execution_count": 40,
   "outputs": [],
   "source": [
    "n = np.array([1, 0])\n",
    "s = np.linspace(-2, 2, num=1000)"
   ],
   "metadata": {
    "collapsed": false
   }
  },
  {
   "cell_type": "code",
   "execution_count": 41,
   "outputs": [],
   "source": [
    "shifts = (128, 128)"
   ],
   "metadata": {
    "collapsed": false
   }
  },
  {
   "cell_type": "code",
   "execution_count": 42,
   "outputs": [],
   "source": [
    "disk = Disk(radius)\n",
    "kwargs = {\"support_disk_f\": 2., \"support_disk_t\": 50.}\n",
    "radon_gaussian = RadonTransform(disk, shifts, n.reshape(1,2), s, lattice_shifts = True, **kwargs)"
   ],
   "metadata": {
    "collapsed": false
   }
  },
  {
   "cell_type": "code",
   "execution_count": 43,
   "outputs": [],
   "source": [
    "%time\n",
    "radon_p_vals = radon_gaussian.apply(np.ones(128 * 128))"
   ],
   "metadata": {
    "collapsed": false
   }
  },
  {
   "cell_type": "code",
   "execution_count": 44,
   "outputs": [],
   "source": [
    "plt.plot(s, radon_p_vals.flatten())\n",
    "plt.title(label=\"R[p](n,s) with a fixed n = (1, 0)\");"
   ],
   "metadata": {
    "collapsed": false
   }
  },
  {
   "cell_type": "code",
   "execution_count": 45,
   "outputs": [],
   "source": [
    "thetas = np.linspace(0, 2 * np.pi, num=100)\n",
    "s = np.linspace(-1, 1, num=120)"
   ],
   "metadata": {
    "collapsed": false
   }
  },
  {
   "cell_type": "code",
   "execution_count": 46,
   "outputs": [],
   "source": [
    "radon_gaussian2 = RadonTransform(disk, shifts, np.array(list(zip(np.cos(thetas), np.sin(thetas)))), s, lattice_shifts=True, **kwargs)"
   ],
   "metadata": {
    "collapsed": false
   }
  },
  {
   "cell_type": "code",
   "execution_count": 47,
   "outputs": [],
   "source": [
    "%%time\n",
    "results = radon_gaussian2.apply(np.ones(128 * 128))"
   ],
   "metadata": {
    "collapsed": false
   }
  },
  {
   "cell_type": "code",
   "execution_count": 48,
   "outputs": [],
   "source": [
    "plt.imshow(results.T, cmap=cmap)\n",
    "plt.colorbar()\n",
    "plt.ylabel(\"s\")\n",
    "plt.xlabel(\"n\");"
   ],
   "metadata": {
    "collapsed": false
   }
  },
  {
   "cell_type": "code",
   "execution_count": 49,
   "outputs": [],
   "source": [
    "%%time\n",
    "resultsF = radon_gaussian2.applyF(np.ones(128 * 128))"
   ],
   "metadata": {
    "collapsed": false
   }
  },
  {
   "cell_type": "code",
   "execution_count": 50,
   "outputs": [],
   "source": [
    "n_runs = 500\n",
    "delta = 100\n",
    "eps = 1e-6\n",
    "N = disk.support(**kwargs)*disk.supportF(**kwargs)/2.\n",
    "freqs = np.arange(-N, N + 1).reshape(-1, 1)\n",
    "alphas = np.ones(128 * 128)"
   ],
   "metadata": {
    "collapsed": false
   }
  },
  {
   "cell_type": "code",
   "execution_count": 51,
   "outputs": [],
   "source": [
    "def time_run(k, radon_gaussian, time_step_1, time_step_2):\n",
    "        start = time.time()\n",
    "        resultsF = radon_gaussian.applyF(alphas)\n",
    "        end = time.time()\n",
    "        time_step_1[k] = end - start\n",
    "\n",
    "        start = time.time()\n",
    "        results = radon_gaussian.apply(alphas)\n",
    "        end = time.time()\n",
    "        time_step_2[k] = end - start - time_step_1[k]"
   ],
   "metadata": {
    "collapsed": false
   }
  },
  {
   "cell_type": "code",
   "execution_count": 52,
   "outputs": [],
   "source": [
    "if full_run:\n",
    "    time_step_1 = np.zeros(delta)\n",
    "    time_step_2 = np.zeros(delta)\n",
    "    k = 0\n",
    "    for run in tqdm.trange(n_runs - delta, n_runs):\n",
    "        thetas = np.linspace(0, 2 * np.pi, num=run)\n",
    "        s = np.linspace(-1, 1, num=10)\n",
    "        radon_gaussian = RadonTransform(disk, shifts, np.array(list(zip(np.cos(thetas), np.sin(thetas)))), s, lattice_shifts = True, **kwargs)\n",
    "        time_run(k, radon_gaussian, time_step_1, time_step_2)\n",
    "        k += 1"
   ],
   "metadata": {
    "collapsed": false
   }
  },
  {
   "cell_type": "code",
   "execution_count": 53,
   "outputs": [],
   "source": [
    "def plot_benchmark(time_step_1, time_step_2, n_runs, delta, title):\n",
    "    xs = np.arange(n_runs-delta, n_runs)\n",
    "    fig, ax = plt.subplots( nrows=1, ncols=1 )\n",
    "    plt.scatter(xs, time_step_1, label=\"step 1\")\n",
    "    plt.scatter(xs, time_step_2, label=\"step 2\")\n",
    "    m_s1, b_s1 = np.polyfit(xs, time_step_1, 1)\n",
    "    m_s2, b_s2 = np.polyfit(xs, time_step_2, 1)\n",
    "    plt.plot(xs, m_s1*xs+b_s1)\n",
    "    plt.plot(xs, m_s2*xs+b_s2)\n",
    "    plt.legend()\n",
    "    plt.title(label=title)\n",
    "    plt.show()\n",
    "    fig.savefig(\"../../../outputs/\" + title + \".png\")"
   ],
   "metadata": {
    "collapsed": false
   }
  },
  {
   "cell_type": "code",
   "execution_count": 54,
   "outputs": [],
   "source": [
    "if full_run:\n",
    "    plot_benchmark(time_step_1, time_step_2, n_runs, delta, \"disk_griddeltas_increasing_num_n_eps1e-6\")"
   ],
   "metadata": {
    "collapsed": false
   }
  },
  {
   "cell_type": "code",
   "execution_count": 55,
   "outputs": [],
   "source": [
    "if full_run:\n",
    "    time_step_1 = np.zeros(delta)\n",
    "    time_step_2 = np.zeros(delta)\n",
    "    k = 0\n",
    "    for run in tqdm.trange(n_runs - delta, n_runs):\n",
    "        thetas = np.linspace(0, 2 * np.pi, num=30)\n",
    "        s = np.linspace(-1, 1, num=run)\n",
    "        radon_gaussian = RadonTransform(disk, shifts, np.array(list(zip(np.cos(thetas), np.sin(thetas)))), s, lattice_shifts=True, **kwargs)\n",
    "        time_run(k, radon_gaussian, time_step_1, time_step_2)\n",
    "        k += 1"
   ],
   "metadata": {
    "collapsed": false
   }
  },
  {
   "cell_type": "code",
   "execution_count": 56,
   "outputs": [],
   "source": [
    "if full_run:\n",
    "    plot_benchmark(time_step_1, time_step_2, n_runs, delta, \"disk_griddeltas_increasing_num_t_eps1e-6\")"
   ],
   "metadata": {
    "collapsed": false
   }
  },
  {
   "cell_type": "code",
   "execution_count": 56,
   "outputs": [],
   "source": [],
   "metadata": {
    "collapsed": false
   }
  }
 ],
 "metadata": {
  "kernelspec": {
   "display_name": "Python 3",
   "language": "python",
   "name": "python3"
  },
  "language_info": {
   "codemirror_mode": {
    "name": "ipython",
    "version": 2
   },
   "file_extension": ".py",
   "mimetype": "text/x-python",
   "name": "python",
   "nbconvert_exporter": "python",
   "pygments_lexer": "ipython2",
   "version": "2.7.6"
  }
 },
 "nbformat": 4,
 "nbformat_minor": 0
}
